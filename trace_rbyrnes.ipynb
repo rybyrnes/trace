{
 "cells": [
  {
   "cell_type": "code",
   "execution_count": 1,
   "metadata": {},
   "outputs": [],
   "source": [
    "import pandas as pd\n",
    "import numpy as np"
   ]
  },
  {
   "cell_type": "code",
   "execution_count": 2,
   "metadata": {},
   "outputs": [],
   "source": [
    "garden = np.random.randint(1,10,(3,3))"
   ]
  },
  {
   "cell_type": "code",
   "execution_count": 3,
   "metadata": {},
   "outputs": [
    {
     "data": {
      "text/plain": [
       "array([[5, 5, 9],\n",
       "       [3, 5, 1],\n",
       "       [9, 9, 2]])"
      ]
     },
     "execution_count": 3,
     "metadata": {},
     "output_type": "execute_result"
    }
   ],
   "source": [
    "garden"
   ]
  },
  {
   "cell_type": "code",
   "execution_count": 4,
   "metadata": {},
   "outputs": [],
   "source": [
    "def eat_zanoria(garden):\n",
    "    # start at the origin, garden[2][2]\n",
    "    # chomp away; up, down, left, right, searching for the most carrots in your path\n",
    "    # the path in the mocked up matrix would be: \n",
    "    # garden[1][1] -> garden[1][2] -> garden[0][2] -> garden[0][1] -> garden[0][0] -> garden[1][0] ->\n",
    "    # garden[2][0] -> garden[2][1] -> garden[2][2] -> sleep\n",
    "    \n",
    "    # this resembles DAG problems, I've seen before but haven't encountered, likely involves\n",
    "    # 1) detecting the origin at garden[1][1]\n",
    "    # 2) taking the abs_diff(garden[1][1] - garden[ni][mi]), for each row, column value and selecting\n",
    "    # the \"path\" where the abs_diff is the greatest in the search space of up, down, left, right\n",
    "    return"
   ]
  },
  {
   "cell_type": "code",
   "execution_count": null,
   "metadata": {},
   "outputs": [],
   "source": []
  }
 ],
 "metadata": {
  "kernelspec": {
   "display_name": "Python 3",
   "language": "python",
   "name": "python3"
  },
  "language_info": {
   "codemirror_mode": {
    "name": "ipython",
    "version": 3
   },
   "file_extension": ".py",
   "mimetype": "text/x-python",
   "name": "python",
   "nbconvert_exporter": "python",
   "pygments_lexer": "ipython3",
   "version": "3.7.3"
  }
 },
 "nbformat": 4,
 "nbformat_minor": 2
}
